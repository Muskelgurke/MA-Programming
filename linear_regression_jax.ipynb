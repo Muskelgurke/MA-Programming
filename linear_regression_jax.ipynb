{
 "cells": [
  {
   "metadata": {},
   "cell_type": "markdown",
   "source": [
    "# Linear Regression Parameters using JAX\n",
    "This notebook demonstrates how to calculate linear regression parameters (a and b) using JAX arrays."
   ],
   "id": "ae615154e9203760"
  },
  {
   "metadata": {
    "ExecuteTime": {
     "end_time": "2025-05-21T11:40:04.361241Z",
     "start_time": "2025-05-21T11:40:03.676569Z"
    }
   },
   "cell_type": "code",
   "source": [
    "import jax.numpy as jnp\n",
    "from jax import grad, jit\n",
    "import numpy as np\n",
    "import matplotlib.pyplot as plt"
   ],
   "id": "47ea64706e978a19",
   "outputs": [],
   "execution_count": 1
  },
  {
   "metadata": {
    "ExecuteTime": {
     "end_time": "2025-05-21T11:52:15.276238Z",
     "start_time": "2025-05-21T11:52:15.270084Z"
    }
   },
   "cell_type": "code",
   "source": [
    "# Generate some sample data\n",
    "X = np.array([1,2,-1,1])\n",
    "y = np.array([2,3,-1,-1])\n",
    "# Convert to JAX arrays\n",
    "X_jax = jnp.array(X)\n",
    "y_jax = jnp.array(y)"
   ],
   "id": "8529f27a6ed2cf50",
   "outputs": [],
   "execution_count": 13
  },
  {
   "metadata": {},
   "cell_type": "markdown",
   "source": "## Define the Mean Squared Error Loss Function",
   "id": "d1b41222a1050134"
  },
  {
   "metadata": {
    "ExecuteTime": {
     "end_time": "2025-05-21T11:52:18.439379Z",
     "start_time": "2025-05-21T11:52:18.435485Z"
    }
   },
   "cell_type": "code",
   "source": [
    "def mse_loss(params, X, y):\n",
    "    a, b = params\n",
    "    y_pred = a * X + b\n",
    "    return jnp.mean((y_pred - y) ** 2)"
   ],
   "id": "1fea16cf0d719a9c",
   "outputs": [],
   "execution_count": 14
  },
  {
   "metadata": {},
   "cell_type": "markdown",
   "source": "## Calculate Gradients and Update Parameters",
   "id": "a13fb71855e7df2f"
  },
  {
   "metadata": {
    "ExecuteTime": {
     "end_time": "2025-05-21T11:53:06.287568Z",
     "start_time": "2025-05-21T11:53:06.060595Z"
    }
   },
   "cell_type": "code",
   "source": [
    "# Initialize parameters\n",
    "params = jnp.array([1.0, 2.0])  # [a, b]\n",
    "learning_rate = 0.01\n",
    "iterations = 5000\n",
    "\n",
    "# Get gradient function\n",
    "grad_loss = jit(grad(mse_loss))\n",
    "\n",
    "# Training loop\n",
    "for i in range(iterations):  # Changed n_iterations to iterations\n",
    "    grads = grad_loss(params, X_jax, y_jax)\n",
    "    params = params - learning_rate * grads\n",
    "\n",
    "    if i % 100 == 0:\n",
    "        loss = mse_loss(params, X_jax, y_jax)\n",
    "        print(f\"Iteration {i}, Loss: {loss:.4f}, Parameters: a={params[0]:.4f}, b={params[1]:.4f}\")\n"
   ],
   "id": "108d5dd5e4dff505",
   "outputs": [
    {
     "name": "stdout",
     "output_type": "stream",
     "text": [
      "Iteration 0, Loss: 5.2817, Parameters: a=0.9750, b=1.9600\n",
      "Iteration 100, Loss: 1.6775, Parameters: a=0.8747, b=0.4042\n",
      "Iteration 200, Loss: 1.4740, Parameters: a=1.0936, b=0.0315\n",
      "Iteration 300, Loss: 1.4504, Parameters: a=1.1707, b=-0.0935\n",
      "Iteration 400, Loss: 1.4477, Parameters: a=1.1970, b=-0.1360\n",
      "Iteration 500, Loss: 1.4474, Parameters: a=1.2059, b=-0.1505\n",
      "Iteration 600, Loss: 1.4474, Parameters: a=1.2090, b=-0.1554\n",
      "Iteration 700, Loss: 1.4474, Parameters: a=1.2100, b=-0.1570\n",
      "Iteration 800, Loss: 1.4474, Parameters: a=1.2103, b=-0.1576\n",
      "Iteration 900, Loss: 1.4474, Parameters: a=1.2105, b=-0.1578\n",
      "Iteration 1000, Loss: 1.4474, Parameters: a=1.2105, b=-0.1579\n",
      "Iteration 1100, Loss: 1.4474, Parameters: a=1.2105, b=-0.1579\n",
      "Iteration 1200, Loss: 1.4474, Parameters: a=1.2105, b=-0.1579\n",
      "Iteration 1300, Loss: 1.4474, Parameters: a=1.2105, b=-0.1579\n",
      "Iteration 1400, Loss: 1.4474, Parameters: a=1.2105, b=-0.1579\n",
      "Iteration 1500, Loss: 1.4474, Parameters: a=1.2105, b=-0.1579\n",
      "Iteration 1600, Loss: 1.4474, Parameters: a=1.2105, b=-0.1579\n",
      "Iteration 1700, Loss: 1.4474, Parameters: a=1.2105, b=-0.1579\n",
      "Iteration 1800, Loss: 1.4474, Parameters: a=1.2105, b=-0.1579\n",
      "Iteration 1900, Loss: 1.4474, Parameters: a=1.2105, b=-0.1579\n",
      "Iteration 2000, Loss: 1.4474, Parameters: a=1.2105, b=-0.1579\n",
      "Iteration 2100, Loss: 1.4474, Parameters: a=1.2105, b=-0.1579\n",
      "Iteration 2200, Loss: 1.4474, Parameters: a=1.2105, b=-0.1579\n",
      "Iteration 2300, Loss: 1.4474, Parameters: a=1.2105, b=-0.1579\n",
      "Iteration 2400, Loss: 1.4474, Parameters: a=1.2105, b=-0.1579\n",
      "Iteration 2500, Loss: 1.4474, Parameters: a=1.2105, b=-0.1579\n",
      "Iteration 2600, Loss: 1.4474, Parameters: a=1.2105, b=-0.1579\n",
      "Iteration 2700, Loss: 1.4474, Parameters: a=1.2105, b=-0.1579\n",
      "Iteration 2800, Loss: 1.4474, Parameters: a=1.2105, b=-0.1579\n",
      "Iteration 2900, Loss: 1.4474, Parameters: a=1.2105, b=-0.1579\n",
      "Iteration 3000, Loss: 1.4474, Parameters: a=1.2105, b=-0.1579\n",
      "Iteration 3100, Loss: 1.4474, Parameters: a=1.2105, b=-0.1579\n",
      "Iteration 3200, Loss: 1.4474, Parameters: a=1.2105, b=-0.1579\n",
      "Iteration 3300, Loss: 1.4474, Parameters: a=1.2105, b=-0.1579\n",
      "Iteration 3400, Loss: 1.4474, Parameters: a=1.2105, b=-0.1579\n",
      "Iteration 3500, Loss: 1.4474, Parameters: a=1.2105, b=-0.1579\n",
      "Iteration 3600, Loss: 1.4474, Parameters: a=1.2105, b=-0.1579\n",
      "Iteration 3700, Loss: 1.4474, Parameters: a=1.2105, b=-0.1579\n",
      "Iteration 3800, Loss: 1.4474, Parameters: a=1.2105, b=-0.1579\n",
      "Iteration 3900, Loss: 1.4474, Parameters: a=1.2105, b=-0.1579\n",
      "Iteration 4000, Loss: 1.4474, Parameters: a=1.2105, b=-0.1579\n",
      "Iteration 4100, Loss: 1.4474, Parameters: a=1.2105, b=-0.1579\n",
      "Iteration 4200, Loss: 1.4474, Parameters: a=1.2105, b=-0.1579\n",
      "Iteration 4300, Loss: 1.4474, Parameters: a=1.2105, b=-0.1579\n",
      "Iteration 4400, Loss: 1.4474, Parameters: a=1.2105, b=-0.1579\n",
      "Iteration 4500, Loss: 1.4474, Parameters: a=1.2105, b=-0.1579\n",
      "Iteration 4600, Loss: 1.4474, Parameters: a=1.2105, b=-0.1579\n",
      "Iteration 4700, Loss: 1.4474, Parameters: a=1.2105, b=-0.1579\n",
      "Iteration 4800, Loss: 1.4474, Parameters: a=1.2105, b=-0.1579\n",
      "Iteration 4900, Loss: 1.4474, Parameters: a=1.2105, b=-0.1579\n"
     ]
    }
   ],
   "execution_count": 16
  },
  {
   "metadata": {
    "ExecuteTime": {
     "end_time": "2025-05-21T11:54:04.002753Z",
     "start_time": "2025-05-21T11:54:03.880067Z"
    }
   },
   "cell_type": "code",
   "source": [
    "# Plot the results\n",
    "plt.scatter(X, y, alpha=0.5, label='Data points')\n",
    "plt.plot(X, params[0] * X + params[1], 'r', label='Fitted line')\n",
    "plt.xlabel('X')\n",
    "plt.ylabel('y')\n",
    "plt.title('Linear Regression with JAX')\n",
    "plt.legend()\n",
    "plt.show()"
   ],
   "id": "8892f0daf6ba68ce",
   "outputs": [
    {
     "data": {
      "text/plain": [
       "<Figure size 640x480 with 1 Axes>"
      ],
      "image/png": "[encoded data removed]"
     },
     "metadata": {},
     "output_type": "display_data"
    }
   ],
   "execution_count": 17
  }
 ],
 "metadata": {
  "kernelspec": {
   "display_name": "Python 3",
   "language": "python",
   "name": "python3"
  },
  "language_info": {
   "codemirror_mode": {
    "name": "ipython",
    "version": 2
   },
   "file_extension": ".py",
   "mimetype": "text/x-python",
   "name": "python",
   "nbconvert_exporter": "python",
   "pygments_lexer": "ipython2",
   "version": "2.7.6"
  }
 },
 "nbformat": 4,
 "nbformat_minor": 5
}
